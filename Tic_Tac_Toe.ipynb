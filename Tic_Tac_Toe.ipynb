{
 "cells": [
  {
   "cell_type": "code",
   "execution_count": 36,
   "id": "4559c090",
   "metadata": {},
   "outputs": [],
   "source": [
    "def intro_to_Game():\n",
    "    print('''Welcome to TIC_TAC_TOE Game\\n\n",
    "Tic-tac-toe is a game in which two players take turns in drawing either an \"O\" or \"X\" in one square  of a grid consisting of nine squares.\n",
    "\\nThe winner is the first player to get three of the same symbols in a row\n",
    "\n",
    "Requirements :\n",
    "    2 players should be able to play the game (both sitting at the same computer)\n",
    "    The board should be printed out every time a player makes a move\n",
    "    You should be able to accept input of the player position and then place a symbol on the board\n",
    "''')\n"
   ]
  },
  {
   "cell_type": "code",
   "execution_count": 71,
   "id": "2c63f0fa",
   "metadata": {},
   "outputs": [],
   "source": [
    "#create dashboard\n",
    "def dashboard():\n",
    "    import numpy as np\n",
    "    global dashboard\n",
    "    \n",
    "    dashboard = np.array([['1','2','3'],['4','5','6'],['7','8','9']])   \n",
    "    print(\"Please select place ( from 1 to 9) where you want to place your marker \")\n",
    "    print(dashboard)"
   ]
  },
  {
   "cell_type": "code",
   "execution_count": 72,
   "id": "b4ca454e",
   "metadata": {},
   "outputs": [
    {
     "name": "stdout",
     "output_type": "stream",
     "text": [
      "Please select place ( from 1 to 9) where you want to place your marker \n",
      "[['1' '2' '3']\n",
      " ['4' '5' '6']\n",
      " ['7' '8' '9']]\n"
     ]
    }
   ],
   "source": [
    "dashboard()"
   ]
  },
  {
   "cell_type": "code",
   "execution_count": 2,
   "id": "4ec74c84",
   "metadata": {},
   "outputs": [],
   "source": [
    "#marker_selection\n",
    "def marker_selection():\n",
    "    global p1_marker,p2_marker\n",
    "    from IPython.display import clear_output\n",
    "    while True:\n",
    "        x =(input(f\" {Player_1} pick a marker 'X' or 'O': \" ))\n",
    "        if x == \"X\":\n",
    "            p1_marker = 'X'\n",
    "            p2_marker = 'O'\n",
    "            break;\n",
    "        elif x == \"O\":\n",
    "            p1_marker = 'O'\n",
    "            p2_marker = 'X'\n",
    "            break;\n",
    "            \n",
    "        else:\n",
    "            clear_output()\n",
    "            print(\"Please enter correct marker ('X' or 'O')\")\n",
    "    \n",
    "    "
   ]
  },
  {
   "cell_type": "code",
   "execution_count": 38,
   "id": "cb03de70",
   "metadata": {},
   "outputs": [],
   "source": [
    "def one_list(array):\n",
    "    y =array.tolist()[0]\n",
    "    for x in range (1,3):\n",
    "        y+=(array.tolist())[x]\n",
    "    return y"
   ]
  },
  {
   "cell_type": "code",
   "execution_count": 34,
   "id": "be094cb6",
   "metadata": {},
   "outputs": [],
   "source": [
    "#win_loss_decision_making\n",
    "def win_loss_decision():\n",
    "    global z,d,v\n",
    "    if ((dashboard[0,0] == dashboard[0,1] == dashboard[0,2] ) or (dashboard[1,0] == dashboard[1,1] == dashboard[1,2]) \n",
    "    or (dashboard[2,0] == dashboard[2,1] == dashboard[2,2] ) or(dashboard[0,0] == dashboard[1,0] == dashboard[2,0] ) or(dashboard[1,0] == dashboard[1,1] == dashboard[2,1] ) or (dashboard[2,0] == dashboard[1,2] == dashboard[2,2] ) or(dashboard[0,0] == dashboard[1,1] == dashboard[2,2] ) or(dashboard[2,0] == dashboard[2,1] == dashboard[0,2] )):\n",
    "        z =10\n",
    "        d = False\n",
    "        v=1\n",
    "        print('YOU WON')\n",
    "        print(f\"Congratualtions {n}, You are the Winner\")"
   ]
  },
  {
   "cell_type": "code",
   "execution_count": null,
   "id": "af2ad2d6",
   "metadata": {},
   "outputs": [],
   "source": [
    "#asking player for input\n",
    "def players_input():\n",
    "    global d,v,n\n",
    "   \n",
    "    d = True\n",
    "    v = 10\n",
    "    dic = {Player_1:p1_marker, Player_2 : p2_marker}\n",
    "    while d:\n",
    "        for a,b in dic.items():\n",
    "            position = int(input( f\" {a}, Please select your position : \"))\n",
    "            if position in range(1,10) and str(position) in one_list(dashboard) :\n",
    "                dashboard[dashboard== str(position)] = b\n",
    "                print(dashboard)\n",
    "                n =a\n",
    "                win_loss_decision()\n",
    "                if v ==1 :\n",
    "                    break\n",
    "            else:\n",
    "                clear_output()\n",
    "                print(\"Either you entered wrong positon or its already occupied\")\n",
    "      "
   ]
  },
  {
   "cell_type": "code",
   "execution_count": 9,
   "id": "4c53b9cb",
   "metadata": {},
   "outputs": [],
   "source": [
    "\n"
   ]
  },
  {
   "cell_type": "markdown",
   "id": "a76b5299",
   "metadata": {},
   "source": []
  },
  {
   "cell_type": "code",
   "execution_count": 30,
   "id": "48382dd3",
   "metadata": {},
   "outputs": [],
   "source": [
    "\n",
    "\n",
    "        \n",
    "\n",
    "    "
   ]
  },
  {
   "cell_type": "code",
   "execution_count": 59,
   "id": "9a980a33",
   "metadata": {},
   "outputs": [
    {
     "name": "stdout",
     "output_type": "stream",
     "text": [
      "Welcome to TIC_TAC_TOE Game\n",
      "\n",
      "Tic-tac-toe is a game in which two players take turns in drawing either an \"O\" or \"X\" in one square  of a grid consisting of nine squares.\n",
      "\n",
      "The winner is the first player to get three of the same symbols in a row\n",
      "\n",
      "Requirements :\n",
      "    2 players should be able to play the game (both sitting at the same computer)\n",
      "    The board should be printed out every time a player makes a move\n",
      "    You should be able to accept input of the player position and then place a symbol on the board\n",
      "\n",
      "Enter you Name : e\n",
      "Enter you Name : r\n",
      " e pick a marker 'X' or 'O': X\n",
      "Please select place ( from 1 to 9) where you want to place your marker \n",
      "[['1' '2' '3']\n",
      " ['4' '5' '6']\n",
      " ['7' '8' '9']]\n",
      " e, Please select your position : 1\n",
      "[['X' '2' '3']\n",
      " ['4' '5' '6']\n",
      " ['7' '8' '9']]\n",
      " r, Please select your position : 2\n",
      "[['X' 'O' '3']\n",
      " ['4' '5' '6']\n",
      " ['7' '8' '9']]\n",
      " e, Please select your position : 5\n",
      "[['X' 'O' '3']\n",
      " ['4' 'X' '6']\n",
      " ['7' '8' '9']]\n",
      " r, Please select your position : 3\n",
      "[['X' 'O' 'O']\n",
      " ['4' 'X' '6']\n",
      " ['7' '8' '9']]\n",
      " e, Please select your position : 9\n",
      "[['X' 'O' 'O']\n",
      " ['4' 'X' '6']\n",
      " ['7' '8' 'X']]\n",
      "YOU WON\n",
      "Congratualtions e, You are the Winner\n"
     ]
    }
   ],
   "source": [
    "\n",
    "intro_to_Game()\n",
    "Player_1 = input(\"Enter you Name : \")\n",
    "Player_2 = input(\"Enter you Name : \")\n",
    "marker_selection()\n",
    "dashboard()\n",
    "z=1\n",
    "v=10\n",
    "while z<9:\n",
    "    players_input()\n",
    "    z+=1"
   ]
  },
  {
   "cell_type": "code",
   "execution_count": 53,
   "id": "7c1cd5db",
   "metadata": {},
   "outputs": [],
   "source": [
    "\n",
    "      \n",
    "        "
   ]
  },
  {
   "cell_type": "code",
   "execution_count": 62,
   "id": "269e4bb0",
   "metadata": {},
   "outputs": [
    {
     "ename": "TypeError",
     "evalue": "'builtin_function_or_method' object is not subscriptable",
     "output_type": "error",
     "traceback": [
      "\u001b[1;31m---------------------------------------------------------------------------\u001b[0m",
      "\u001b[1;31mTypeError\u001b[0m                                 Traceback (most recent call last)",
      "Input \u001b[1;32mIn [62]\u001b[0m, in \u001b[0;36m<cell line: 1>\u001b[1;34m()\u001b[0m\n\u001b[1;32m----> 1\u001b[0m \u001b[43mdashboard\u001b[49m\u001b[43m(\u001b[49m\u001b[43m)\u001b[49m\n",
      "Input \u001b[1;32mIn [61]\u001b[0m, in \u001b[0;36mdashboard\u001b[1;34m()\u001b[0m\n\u001b[0;32m      3\u001b[0m \u001b[38;5;28;01mimport\u001b[39;00m \u001b[38;5;21;01mnumpy\u001b[39;00m \u001b[38;5;28;01mas\u001b[39;00m \u001b[38;5;21;01mnp\u001b[39;00m\n\u001b[0;32m      4\u001b[0m \u001b[38;5;28;01mglobal\u001b[39;00m dashboard\n\u001b[1;32m----> 6\u001b[0m dashboard \u001b[38;5;241m=\u001b[39m \u001b[43mnp\u001b[49m\u001b[38;5;241;43m.\u001b[39;49m\u001b[43marray\u001b[49m\u001b[43m[\u001b[49m\u001b[43m[\u001b[49m\u001b[38;5;124;43m'\u001b[39;49m\u001b[38;5;124;43m1\u001b[39;49m\u001b[38;5;124;43m'\u001b[39;49m\u001b[43m,\u001b[49m\u001b[38;5;124;43m'\u001b[39;49m\u001b[38;5;124;43m2\u001b[39;49m\u001b[38;5;124;43m'\u001b[39;49m\u001b[43m,\u001b[49m\u001b[38;5;124;43m'\u001b[39;49m\u001b[38;5;124;43m3\u001b[39;49m\u001b[38;5;124;43m'\u001b[39;49m\u001b[43m]\u001b[49m\u001b[43m,\u001b[49m\u001b[43m[\u001b[49m\u001b[38;5;124;43m'\u001b[39;49m\u001b[38;5;124;43m4\u001b[39;49m\u001b[38;5;124;43m'\u001b[39;49m\u001b[43m,\u001b[49m\u001b[38;5;124;43m'\u001b[39;49m\u001b[38;5;124;43m5\u001b[39;49m\u001b[38;5;124;43m'\u001b[39;49m\u001b[43m,\u001b[49m\u001b[38;5;124;43m'\u001b[39;49m\u001b[38;5;124;43m6\u001b[39;49m\u001b[38;5;124;43m'\u001b[39;49m\u001b[43m]\u001b[49m\u001b[43m,\u001b[49m\u001b[43m[\u001b[49m\u001b[38;5;124;43m'\u001b[39;49m\u001b[38;5;124;43m7\u001b[39;49m\u001b[38;5;124;43m'\u001b[39;49m\u001b[43m,\u001b[49m\u001b[38;5;124;43m'\u001b[39;49m\u001b[38;5;124;43m8\u001b[39;49m\u001b[38;5;124;43m'\u001b[39;49m\u001b[43m,\u001b[49m\u001b[38;5;124;43m'\u001b[39;49m\u001b[38;5;124;43m9\u001b[39;49m\u001b[38;5;124;43m'\u001b[39;49m\u001b[43m]\u001b[49m\u001b[43m]\u001b[49m   \n\u001b[0;32m      7\u001b[0m \u001b[38;5;28mprint\u001b[39m(\u001b[38;5;124m\"\u001b[39m\u001b[38;5;124mPlease select place ( from 1 to 9) where you want to place your marker \u001b[39m\u001b[38;5;124m\"\u001b[39m)\n\u001b[0;32m      8\u001b[0m \u001b[38;5;28mprint\u001b[39m(dashboard)\n",
      "\u001b[1;31mTypeError\u001b[0m: 'builtin_function_or_method' object is not subscriptable"
     ]
    }
   ],
   "source": [
    "dashboard()"
   ]
  },
  {
   "cell_type": "code",
   "execution_count": null,
   "id": "69341aa0",
   "metadata": {},
   "outputs": [],
   "source": []
  }
 ],
 "metadata": {
  "kernelspec": {
   "display_name": "Python 3 (ipykernel)",
   "language": "python",
   "name": "python3"
  },
  "language_info": {
   "codemirror_mode": {
    "name": "ipython",
    "version": 3
   },
   "file_extension": ".py",
   "mimetype": "text/x-python",
   "name": "python",
   "nbconvert_exporter": "python",
   "pygments_lexer": "ipython3",
   "version": "3.9.12"
  }
 },
 "nbformat": 4,
 "nbformat_minor": 5
}
